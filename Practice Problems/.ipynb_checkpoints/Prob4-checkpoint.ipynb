{
 "cells": [
  {
   "cell_type": "code",
   "execution_count": 5,
   "metadata": {},
   "outputs": [],
   "source": [
    "# A list is symmetric if the first row is the same as the first column,\n",
    "# the second row is the same as the second column and so on. Write a\n",
    "# procedure, symmetric, which takes a list as input, and returns the\n",
    "# boolean True if the list is symmetric and False if it is not.\n",
    "\n",
    "def symmetric(matrix):\n",
    "    if(len(matrix) != len(matrix[0])):\n",
    "        return False;\n",
    "    \n",
    "    for i in range(len(matrix)):\n",
    "        for j in range(len(matrix)):\n",
    "            if(matrix[i][j] != matrix[j][i]):\n",
    "                return False;\n",
    "    return True\n",
    "\n",
    "    \n",
    "\n"
   ]
  },
  {
   "cell_type": "code",
   "execution_count": 6,
   "metadata": {},
   "outputs": [
    {
     "name": "stdout",
     "output_type": "stream",
     "text": [
      "True\n",
      "True\n",
      "False\n",
      "True\n",
      "False\n",
      "False\n"
     ]
    }
   ],
   "source": [
    "print symmetric([[1, 2, 3],\n",
    "                [2, 3, 4],\n",
    "                [3, 4, 1]])\n",
    "#>>> True\n",
    "\n",
    "print symmetric([[\"cat\", \"dog\", \"fish\"],\n",
    "                [\"dog\", \"dog\", \"fish\"],\n",
    "                [\"fish\", \"fish\", \"cat\"]])\n",
    "#>>> True\n",
    "\n",
    "print symmetric([[\"cat\", \"dog\", \"fish\"],\n",
    "                [\"dog\", \"dog\", \"dog\"],\n",
    "                [\"fish\",\"fish\",\"cat\"]])\n",
    "#>>> False\n",
    "\n",
    "print symmetric([[1, 2],\n",
    "                [2, 1]])\n",
    "#>>> True\n",
    "\n",
    "print symmetric([[1, 2, 3, 4],\n",
    "                [2, 3, 4, 5],\n",
    "                [3, 4, 5, 6]])\n",
    "#>>> False\n",
    "\n",
    "print symmetric([[\n",
    "#>>> True1,2,3],\n",
    "                 [2,3,1]])\n",
    "#>>> False"
   ]
  },
  {
   "cell_type": "code",
   "execution_count": null,
   "metadata": {
    "collapsed": true
   },
   "outputs": [],
   "source": []
  }
 ],
 "metadata": {
  "kernelspec": {
   "display_name": "Python 2",
   "language": "python",
   "name": "python2"
  },
  "language_info": {
   "codemirror_mode": {
    "name": "ipython",
    "version": 2
   },
   "file_extension": ".py",
   "mimetype": "text/x-python",
   "name": "python",
   "nbconvert_exporter": "python",
   "pygments_lexer": "ipython2",
   "version": "2.7.12"
  }
 },
 "nbformat": 4,
 "nbformat_minor": 2
}
