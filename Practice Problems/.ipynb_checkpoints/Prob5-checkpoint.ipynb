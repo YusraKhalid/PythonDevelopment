{
 "cells": [
  {
   "cell_type": "code",
   "execution_count": 2,
   "metadata": {},
   "outputs": [],
   "source": [
    "# By Ashwath from forums\n",
    "# Given a list of lists representing a n * n matrix as input, \n",
    "# define a  procedure that returns True if the input is an identity matrix \n",
    "# and False otherwise.\n",
    "\n",
    "# An IDENTITY matrix is a square matrix in which all the elements \n",
    "# on the principal/main diagonal are 1 and all the elements outside \n",
    "# the principal diagonal are 0. \n",
    "# (A square matrix is a matrix in which the number of rows \n",
    "# is equal to the number of columns)\n",
    "\n",
    "def is_identity_matrix(matrix):\n",
    "    if(len(matrix) != len(matrix[0])):\n",
    "        return False;\n",
    "\n",
    "    for i in range(len(matrix)):\n",
    "        for j in range(len(matrix)):\n",
    "            if(i == j):\n",
    "                if(matrix[i][j] != 1):\n",
    "                    return False;\n",
    "            else:\n",
    "                if(matrix[i][j] != 0):\n",
    "                    return False;\n",
    "    return True\n"
   ]
  },
  {
   "cell_type": "code",
   "execution_count": null,
   "metadata": {
    "collapsed": true
   },
   "outputs": [],
   "source": []
  },
  {
   "cell_type": "code",
   "execution_count": null,
   "metadata": {
    "collapsed": true
   },
   "outputs": [],
   "source": []
  },
  {
   "cell_type": "code",
   "execution_count": null,
   "metadata": {
    "collapsed": true
   },
   "outputs": [],
   "source": []
  },
  {
   "cell_type": "code",
   "execution_count": 3,
   "metadata": {},
   "outputs": [
    {
     "name": "stdout",
     "output_type": "stream",
     "text": [
      "True\n",
      "False\n",
      "False\n",
      "False\n",
      "False\n",
      "False\n",
      "False\n"
     ]
    }
   ],
   "source": [
    "matrix1 = [[1,0,0,0],\n",
    "           [0,1,0,0],\n",
    "           [0,0,1,0],\n",
    "           [0,0,0,1]]\n",
    "print is_identity_matrix(matrix1)\n",
    "#>>>True\n",
    "\n",
    "matrix2 = [[1,0,0],\n",
    "           [0,1,0],\n",
    "           [0,0,0]]\n",
    "\n",
    "print is_identity_matrix(matrix2)\n",
    "#>>>False\n",
    "\n",
    "matrix3 = [[2,0,0],\n",
    "           [0,2,0],\n",
    "           [0,0,2]]\n",
    "\n",
    "print is_identity_matrix(matrix3)\n",
    "#>>>False\n",
    "\n",
    "matrix4 = [[1,0,0,0],\n",
    "           [0,1,1,0],\n",
    "           [0,0,0,1]]\n",
    "\n",
    "print is_identity_matrix(matrix4)\n",
    "#>>>False\n",
    "\n",
    "matrix5 = [[1,0,0,0,0,0,0,0,0]]\n",
    "\n",
    "print is_identity_matrix(matrix5)\n",
    "#>>>False\n",
    "\n",
    "matrix6 = [[1,0,0,0],  \n",
    "           [0,1,0,2],  \n",
    "           [0,0,1,0],  \n",
    "           [0,0,0,1]]\n",
    "\n",
    "print is_identity_matrix(matrix6)\n",
    "#>>>False\n",
    "\n",
    "matrix7 = [[1, -1, 1],\n",
    "           [0, 1, 0],\n",
    "           [0, 0, 1]]\n",
    "print is_identity_matrix(matrix7)\n",
    "#>>>False           \n",
    "\n",
    "           "
   ]
  },
  {
   "cell_type": "code",
   "execution_count": null,
   "metadata": {
    "collapsed": true
   },
   "outputs": [],
   "source": []
  }
 ],
 "metadata": {
  "kernelspec": {
   "display_name": "Python 2",
   "language": "python",
   "name": "python2"
  },
  "language_info": {
   "codemirror_mode": {
    "name": "ipython",
    "version": 2
   },
   "file_extension": ".py",
   "mimetype": "text/x-python",
   "name": "python",
   "nbconvert_exporter": "python",
   "pygments_lexer": "ipython2",
   "version": "2.7.12"
  }
 },
 "nbformat": 4,
 "nbformat_minor": 2
}
