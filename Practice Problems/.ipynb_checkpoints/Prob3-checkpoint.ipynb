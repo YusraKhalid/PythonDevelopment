{
 "cells": [
  {
   "cell_type": "code",
   "execution_count": 3,
   "metadata": {
    "collapsed": true
   },
   "outputs": [],
   "source": [
    "# THREE GOLD STARS\n",
    "\n",
    "# Sudoku [http://en.wikipedia.org/wiki/Sudoku]\n",
    "# is a logic puzzle where a game\n",
    "# is defined by a partially filled\n",
    "# 9 x 9 square of digits where each square\n",
    "# contains one of the digits 1,2,3,4,5,6,7,8,9.\n",
    "# For this question we will generalize\n",
    "# and simplify the game.\n",
    "\n",
    "# Define a procedure, check_sudoku,\n",
    "# that takes as input a square list\n",
    "# of lists representing an n x n\n",
    "# sudoku puzzle solution and returns the boolean\n",
    "# True if the input is a valid\n",
    "# sudoku square and returns the boolean False\n",
    "# otherwise.\n",
    "\n",
    "# A valid sudoku square satisfies these\n",
    "# two properties:\n",
    "\n",
    "#   1. Each column of the square contains\n",
    "#       each of the whole numbers from 1 to n exactly once.\n",
    "\n",
    "#   2. Each row of the square contains each\n",
    "#       of the whole numbers from 1 to n exactly once.\n",
    "\n",
    "# You may assume the the input is square and contains at\n",
    "# least one row and column.\n",
    "\n",
    "correct = [[1,2,3],\n",
    "           [2,3,1],\n",
    "           [3,1,2]]\n",
    "\n",
    "incorrect = [[1,2,3,4],\n",
    "             [2,3,1,3],\n",
    "             [3,1,2,3],\n",
    "             [4,4,4,4]]\n",
    "\n",
    "incorrect2 = [[1,2,3,4],\n",
    "              [2,3,1,4],\n",
    "              [4,1,2,3],\n",
    "              [3,4,1,2]]\n",
    "\n",
    "incorrect3 = [[1,2,3,4,5],\n",
    "              [2,3,1,5,6],\n",
    "              [4,5,2,1,3],\n",
    "              [3,4,5,2,1],\n",
    "              [5,6,4,3,2]]\n",
    "\n",
    "incorrect4 = [['a','b','c'],\n",
    "              ['b','c','a'],\n",
    "              ['c','a','b']]\n",
    "\n",
    "incorrect5 = [ [1, 1.5],\n",
    "               [1.5, 1]]\n",
    "               \n",
    "matrix6 = [[1,1.5,3],[3,1,1.5],[1.5,3,1]]\n",
    "\n",
    "\n"
   ]
  },
  {
   "cell_type": "code",
   "execution_count": 26,
   "metadata": {
    "collapsed": true
   },
   "outputs": [],
   "source": [
    "def CheckRow(matrix):\n",
    "    try:     \n",
    "        for i in range(len(matrix)):\n",
    "            lis = range(1,len(matrix)+1);\n",
    "            for j in range(len(matrix)):\n",
    "                lis.remove(matrix[i][j])\n",
    "    except:\n",
    "        return False\n",
    "    return True\n",
    "    "
   ]
  },
  {
   "cell_type": "code",
   "execution_count": 32,
   "metadata": {
    "collapsed": true
   },
   "outputs": [],
   "source": [
    "def CheckCol(matrix):\n",
    "    try:     \n",
    "        for i in range(len(matrix)):\n",
    "            lis = range(1,len(matrix)+1);\n",
    "            for j in range(len(matrix)):\n",
    "                lis.remove(matrix[j][i])\n",
    "    except:\n",
    "        return False\n",
    "    return True"
   ]
  },
  {
   "cell_type": "code",
   "execution_count": 33,
   "metadata": {
    "collapsed": true
   },
   "outputs": [],
   "source": [
    "def check_sudoku(matrix):\n",
    "    return CheckRow(matrix) and CheckCol(matrix)"
   ]
  },
  {
   "cell_type": "code",
   "execution_count": 38,
   "metadata": {},
   "outputs": [
    {
     "name": "stdout",
     "output_type": "stream",
     "text": [
      "False\n",
      "True\n",
      "False\n",
      "False\n",
      "False\n",
      "False\n",
      "False\n"
     ]
    }
   ],
   "source": [
    "\n",
    "\n",
    "    \n",
    "print check_sudoku(incorrect)\n",
    "#>>> False\n",
    "\n",
    "print check_sudoku(correct)\n",
    "#>>> True\n",
    "\n",
    "print check_sudoku(incorrect2)\n",
    "#>>> False\n",
    "\n",
    "print check_sudoku(incorrect3)\n",
    "#>>> False\n",
    "\n",
    "print check_sudoku(incorrect4)\n",
    "#>>> False\n",
    "\n",
    "print check_sudoku(incorrect5)\n",
    "#>>> False\n",
    "\n",
    "print check_sudoku(matrix6)\n",
    "#>>> False\n"
   ]
  },
  {
   "cell_type": "code",
   "execution_count": null,
   "metadata": {
    "collapsed": true
   },
   "outputs": [],
   "source": []
  }
 ],
 "metadata": {
  "kernelspec": {
   "display_name": "Python 2",
   "language": "python",
   "name": "python2"
  },
  "language_info": {
   "codemirror_mode": {
    "name": "ipython",
    "version": 2
   },
   "file_extension": ".py",
   "mimetype": "text/x-python",
   "name": "python",
   "nbconvert_exporter": "python",
   "pygments_lexer": "ipython2",
   "version": "2.7.12"
  }
 },
 "nbformat": 4,
 "nbformat_minor": 2
}
