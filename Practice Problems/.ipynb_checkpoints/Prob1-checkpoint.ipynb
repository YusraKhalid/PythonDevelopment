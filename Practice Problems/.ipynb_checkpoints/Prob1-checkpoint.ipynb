{
 "cells": [
  {
   "cell_type": "code",
   "execution_count": 141,
   "metadata": {
    "collapsed": true
   },
   "outputs": [],
   "source": [
    "def CheckLeapYear(year):\n",
    "    if year % 100 == 0:\n",
    "        if year % 4 == 0 and year % 400 == 0:\n",
    "            return True\n",
    "        return False\n",
    "    elif year % 4 == 0:\n",
    "        return True\n",
    "    return False"
   ]
  },
  {
   "cell_type": "code",
   "execution_count": 142,
   "metadata": {},
   "outputs": [],
   "source": [
    "def daysBetweenDates(year1, month1, day1, year2, month2, day2):\n",
    "\n",
    "    daysTillMonth1 = 0;\n",
    "    daysTillMonth2 = 0;\n",
    "    monthsDays = [31, 28, 31, 30, 31, 30, 31, 31, 30, 31, 30, 31]\n",
    "    \n",
    "    for i in range(month1 - 1):\n",
    "        daysTillMonth1 = daysTillMonth1 + monthsDays[i];\n",
    "    \n",
    "    for i in range(month2 - 1):\n",
    "        daysTillMonth2 = daysTillMonth2 + monthsDays[i];\n",
    "\n",
    "    \n",
    "    days = (year2 - year1) * 365 + days_of_month(month2) - days_of_month(month1) + day2 - day1\n",
    "\n",
    "    yeartemp = year1;\n",
    "   \n",
    "    while(yeartemp < year2+1):\n",
    "        if CheckLeapYear(yeartemp):\n",
    "            days += 1;\n",
    "            yeartemp += 1;\n",
    "        else:\n",
    "            yeartemp += 1; \n",
    "            \n",
    "    if CheckLeapYear(year1):\n",
    "        if month1 > 2:\n",
    "            days = days - 1\n",
    "    if CheckLeapYear(year2):\n",
    "        if month2 < 3:\n",
    "            days = days - 1        \n",
    "            \n",
    "    return days"
   ]
  },
  {
   "cell_type": "code",
   "execution_count": 143,
   "metadata": {},
   "outputs": [],
   "source": [
    "day = daysBetweenDates(2011,1,1,2012,8,8)"
   ]
  },
  {
   "cell_type": "code",
   "execution_count": 144,
   "metadata": {},
   "outputs": [
    {
     "name": "stdout",
     "output_type": "stream",
     "text": [
      "Test case passed!\n",
      "Test case passed!\n",
      "Test case passed!\n",
      "Test case passed!\n",
      "Test case passed!\n"
     ]
    }
   ],
   "source": [
    "def test():\n",
    "    test_cases = [((2012,1,1,2012,2,28), 58),\n",
    "                  ((2012,1,1,2012,3,1), 60),\n",
    "                  ((2011,6,30,2012,6,30), 366),\n",
    "                  ((2011,1,1,2012,8,8), 585 ),\n",
    "                  ((1900,1,1,1999,12,31), 36523)]\n",
    "    for (args, answer) in test_cases:\n",
    "        result = daysBetweenDates(*args)\n",
    "        if result != answer:\n",
    "            print \"Test with data:\", args, \"failed\"\n",
    "        else:\n",
    "            print \"Test case passed!\"\n",
    "\n",
    "\n",
    "test()"
   ]
  },
  {
   "cell_type": "code",
   "execution_count": null,
   "metadata": {
    "collapsed": true
   },
   "outputs": [],
   "source": []
  },
  {
   "cell_type": "code",
   "execution_count": null,
   "metadata": {},
   "outputs": [],
   "source": []
  },
  {
   "cell_type": "code",
   "execution_count": null,
   "metadata": {
    "collapsed": true
   },
   "outputs": [],
   "source": []
  }
 ],
 "metadata": {
  "kernelspec": {
   "display_name": "Python 2",
   "language": "python",
   "name": "python2"
  },
  "language_info": {
   "codemirror_mode": {
    "name": "ipython",
    "version": 2
   },
   "file_extension": ".py",
   "mimetype": "text/x-python",
   "name": "python",
   "nbconvert_exporter": "python",
   "pygments_lexer": "ipython2",
   "version": "2.7.12"
  }
 },
 "nbformat": 4,
 "nbformat_minor": 2
}
