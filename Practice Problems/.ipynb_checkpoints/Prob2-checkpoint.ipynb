{
 "cells": [
  {
   "cell_type": "code",
   "execution_count": 1,
   "metadata": {
    "collapsed": true
   },
   "outputs": [],
   "source": [
    "# Define a procedure, print_multiplication_table,\n",
    "# that takes as input a positive whole number, and prints out a multiplication,\n",
    "# table showing all the whole number multiplications up to and including the\n",
    "# input number. The order in which the equations are printed matters."
   ]
  },
  {
   "cell_type": "code",
   "execution_count": 11,
   "metadata": {},
   "outputs": [],
   "source": [
    "def print_multiplication_table(n):\n",
    "    for i in range(1,n+1):\n",
    "        for j in range(1,n+1):\n",
    "            print str(i) + \" * \" +str(j) + \" = \"+ str(i*j); \n",
    "    "
   ]
  },
  {
   "cell_type": "code",
   "execution_count": 13,
   "metadata": {},
   "outputs": [
    {
     "name": "stdout",
     "output_type": "stream",
     "text": [
      "1 * 1 = 1\n",
      "1 * 2 = 2\n",
      "1 * 3 = 3\n",
      "1 * 4 = 4\n",
      "1 * 5 = 5\n",
      "2 * 1 = 2\n",
      "2 * 2 = 4\n",
      "2 * 3 = 6\n",
      "2 * 4 = 8\n",
      "2 * 5 = 10\n",
      "3 * 1 = 3\n",
      "3 * 2 = 6\n",
      "3 * 3 = 9\n",
      "3 * 4 = 12\n",
      "3 * 5 = 15\n",
      "4 * 1 = 4\n",
      "4 * 2 = 8\n",
      "4 * 3 = 12\n",
      "4 * 4 = 16\n",
      "4 * 5 = 20\n",
      "5 * 1 = 5\n",
      "5 * 2 = 10\n",
      "5 * 3 = 15\n",
      "5 * 4 = 20\n",
      "5 * 5 = 25\n"
     ]
    }
   ],
   "source": [
    "print_multiplication_table(5)"
   ]
  },
  {
   "cell_type": "code",
   "execution_count": null,
   "metadata": {
    "collapsed": true
   },
   "outputs": [],
   "source": [
    "\n",
    "\n",
    "#print_multiplication_table(2)\n",
    "#>>> 1 * 1 = 1\n",
    "#>>> 1 * 2 = 2\n",
    "#>>> 2 * 1 = 2\n",
    "#>>> 2 * 2 = 4\n",
    "\n",
    "#print_multiplication_table(3)\n",
    "#>>> 1 * 1 = 1\n",
    "#>>> 1 * 2 = 2\n",
    "#>>> 1 * 3 = 3\n",
    "#>>> 2 * 1 = 2\n",
    "#>>> 2 * 2 = 4\n",
    "#>>> 2 * 3 = 6\n",
    "#>>> 3 * 1 = 3\n",
    "#>>> 3 * 2 = 6\n",
    "#>>> 3 * 3 = 9\n"
   ]
  }
 ],
 "metadata": {
  "kernelspec": {
   "display_name": "Python 2",
   "language": "python",
   "name": "python2"
  },
  "language_info": {
   "codemirror_mode": {
    "name": "ipython",
    "version": 2
   },
   "file_extension": ".py",
   "mimetype": "text/x-python",
   "name": "python",
   "nbconvert_exporter": "python",
   "pygments_lexer": "ipython2",
   "version": "2.7.12"
  }
 },
 "nbformat": 4,
 "nbformat_minor": 2
}
