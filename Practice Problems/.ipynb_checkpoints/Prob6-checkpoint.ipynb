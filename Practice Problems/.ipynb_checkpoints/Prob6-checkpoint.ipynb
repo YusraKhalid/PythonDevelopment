{
 "cells": [
  {
   "cell_type": "code",
   "execution_count": 150,
   "metadata": {
    "collapsed": true
   },
   "outputs": [],
   "source": [
    "# Numbers in lists by SeanMc from forums\n",
    "# define a procedure that takes in a string of numbers from 1-9 and\n",
    "# outputs a list with the following parameters:\n",
    "# Every number in the string should be inserted into the list.\n",
    "# If the first number in the string is greater than or equal \n",
    "# to the proceeding number, the proceeding number should be inserted \n",
    "# into a sublist. Continue adding to the sublist until the proceeding number \n",
    "# is greater than the first number before the sublist. \n",
    "# Then add this bigger number to the normal list.\n",
    "\n",
    "#Hint - \"int()\" turns a string's element into a number\n",
    "\n"
   ]
  },
  {
   "cell_type": "code",
   "execution_count": 151,
   "metadata": {},
   "outputs": [],
   "source": [
    "def numbers_in_lists(string):\n",
    "    listA = []\n",
    "    listTemp = []\n",
    "    i = 0;\n",
    "    count = 0;\n",
    "    while(i < (len(string)-1)):\n",
    "        if int(string[i]) >=  int(string[i+1]):\n",
    "            listA.append(int(string[i]));\n",
    "            count += 1;\n",
    "            temp  = int(string[i]);\n",
    "            i += 1;\n",
    "            while(i < len(string) and temp >= int(string[i])):\n",
    "                #print i\n",
    "                listTemp.append(int(string[i]));\n",
    "                i += 1\n",
    "            count += len(listTemp)\n",
    "            listA.append(listTemp)\n",
    "            listTemp = []\n",
    "        else:\n",
    "            count += 1;\n",
    "            listA.append(int(string[i]))\n",
    "            i += 1\n",
    "    if(count < len(string)):\n",
    "        listA.append(int(string[count]))\n",
    "    return listA                "
   ]
  },
  {
   "cell_type": "code",
   "execution_count": 152,
   "metadata": {},
   "outputs": [
    {
     "name": "stdout",
     "output_type": "stream",
     "text": [
      "'543987' True\n",
      "'987654321' True\n",
      "'455532123266' True\n",
      "'123456789' True\n"
     ]
    }
   ],
   "source": [
    "\n",
    "\n",
    "#testcases\n",
    "string = '543987'\n",
    "result = [5,[4,3],9,[8,7]]\n",
    "print  repr(string), numbers_in_lists(string)== result\n",
    "string= '987654321'\n",
    "result = [9,[8,7,6,5,4,3,2,1]]\n",
    "print repr(string), numbers_in_lists(string) == result\n",
    "string = '455532123266'\n",
    "result = [4, 5, [5, 5, 3, 2, 1, 2, 3, 2], 6, [6]]\n",
    "print repr(string),   numbers_in_lists(string) == result\n",
    "string = '123456789'\n",
    "result = [1, 2, 3, 4, 5, 6, 7, 8, 9]\n",
    "print repr(string), numbers_in_lists(string) == result"
   ]
  },
  {
   "cell_type": "code",
   "execution_count": null,
   "metadata": {
    "collapsed": true
   },
   "outputs": [],
   "source": []
  }
 ],
 "metadata": {
  "kernelspec": {
   "display_name": "Python 2",
   "language": "python",
   "name": "python2"
  },
  "language_info": {
   "codemirror_mode": {
    "name": "ipython",
    "version": 2
   },
   "file_extension": ".py",
   "mimetype": "text/x-python",
   "name": "python",
   "nbconvert_exporter": "python",
   "pygments_lexer": "ipython2",
   "version": "2.7.12"
  }
 },
 "nbformat": 4,
 "nbformat_minor": 2
}
